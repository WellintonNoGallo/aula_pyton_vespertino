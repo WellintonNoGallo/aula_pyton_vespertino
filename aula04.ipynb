{
 "cells": [
  {
   "cell_type": "markdown",
   "metadata": {},
   "source": [
    "## Atividade\n",
    "\n",
    "- Crie um programa para o boletim de notas de aluno. Guarde o nome do aluno, as notas e caucule a média final do aluno.\n",
    "\n",
    "- Disciplinas: \n",
    "    - Matemática\n",
    "    - Português\n",
    "    - Geografia \n",
    "    - História\n",
    "    - Física\n",
    "\n",
    "- Ao obter as notas e a média das notas, imprima o boletim do aluno imformando as notas das matérias e com quanto ele ficou de média."
   ]
  },
  {
   "cell_type": "code",
   "execution_count": 2,
   "metadata": {},
   "outputs": [
    {
     "name": "stdout",
     "output_type": "stream",
     "text": [
      "---------------------------------------- BOLETIM ESCOLAR ----------------------------------------\n",
      "O resultado é: 5.4\n"
     ]
    }
   ],
   "source": [
    "print(40*'-','BOLETIM ESCOLAR',40*'-')\n",
    "nome = input('Nome do aluno: ')\n",
    "\n",
    "nota1 = input('digitar a nota de matematica')\n",
    "nota2 = input('digitar a nota de portugues')\n",
    "nota3 = input('digitar a nota de geografia')\n",
    "nota4 = input('digitar a nota de historia')\n",
    "nota5 = input('digitar a nota de fisica')\n",
    "\n",
    "nota1 = float(nota1)\n",
    "nota2 = float(nota2)\n",
    "nota3 = float(nota3)\n",
    "nota4 = float(nota4)\n",
    "nota5 = float(nota5)\n",
    "\n",
    "print(f())\n",
    "\n",
    "\n",
    "media = (nota1 + nota2 + nota3 + nota4 + nota5)/5\n",
    "\n",
    "\n",
    "\n",
    "print(f'O resultado é: {media}')\n",
    "\n",
    "\n",
    "\n"
   ]
  }
 ],
 "metadata": {
  "kernelspec": {
   "display_name": "Python 3",
   "language": "python",
   "name": "python3"
  },
  "language_info": {
   "codemirror_mode": {
    "name": "ipython",
    "version": 3
   },
   "file_extension": ".py",
   "mimetype": "text/x-python",
   "name": "python",
   "nbconvert_exporter": "python",
   "pygments_lexer": "ipython3",
   "version": "3.12.4"
  }
 },
 "nbformat": 4,
 "nbformat_minor": 2
}

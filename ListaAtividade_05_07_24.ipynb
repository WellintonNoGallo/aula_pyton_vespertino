{
 "cells": [
  {
   "cell_type": "markdown",
   "metadata": {},
   "source": [
    "## Operador ternário\n",
    "- Usar operador ternário quando as alternativas forem pequenas, e quando tiver apenas 2 ou no máximo 3 alternativas.\n",
    "- No exemplo a variável precisa ser inteira"
   ]
  },
  {
   "cell_type": "code",
   "execution_count": 10,
   "metadata": {},
   "outputs": [
    {
     "name": "stdout",
     "output_type": "stream",
     "text": [
      "karython é maior de idade.\n"
     ]
    }
   ],
   "source": [
    "nome = 'karython'\n",
    "idade = 18\n",
    "\n",
    "print(nome, 'é maior de idade.' if idade >= 18 else 'é menor de idade')"
   ]
  },
  {
   "cell_type": "markdown",
   "metadata": {},
   "source": [
    "## Replace\n",
    "- substituir"
   ]
  },
  {
   "cell_type": "code",
   "execution_count": 5,
   "metadata": {},
   "outputs": [
    {
     "name": "stdout",
     "output_type": "stream",
     "text": [
      "<class 'str'>\n",
      "<class 'float'>\n"
     ]
    }
   ],
   "source": [
    "peso = input(\"Digite seu peso: \")).replace(',','.')\n",
    "print(type(peso))\n",
    "peso = float(peso)\n",
    "print(type(peso))\n"
   ]
  },
  {
   "cell_type": "markdown",
   "metadata": {},
   "source": [
    "## Desafio 01\n",
    "- Crie um programa para fazer a verificação de um cliente para saber se ele pode usar o brinquedo ou não.\n",
    "    - Para brincar ele precisa:\n",
    "        - ter mais que 12 anos\n",
    "        - ter altura minima de 1,20 mts"
   ]
  },
  {
   "cell_type": "code",
   "execution_count": 13,
   "metadata": {},
   "outputs": [
    {
     "name": "stdout",
     "output_type": "stream",
     "text": [
      "autorizado a brincar\n"
     ]
    }
   ],
   "source": [
    "# TODO: Resposta desafio 01\n",
    "\n",
    "idade = int(input('Digite sua idade: '))\n",
    "altura = float(input('Digite a altura: '))\n",
    "\n",
    "if idade >= 12 and altura >= 1.20:\n",
    "    print('autorizado a brincar')\n",
    "else:\n",
    "    print('não autorizado a brincar')\n"
   ]
  },
  {
   "cell_type": "markdown",
   "metadata": {},
   "source": [
    "## Desafio 02\n",
    "- Crie um programa que verifica se o aluno poderar ir a praia.\n",
    "    - Para ir a praia ele precisa:\n",
    "        - Verifica se acordei de bom humor\n",
    "        - Verifica se o pai ja chegou em casa para leva-lo"
   ]
  },
  {
   "cell_type": "code",
   "execution_count": 26,
   "metadata": {},
   "outputs": [
    {
     "name": "stdout",
     "output_type": "stream",
     "text": [
      "não pode ir a praia\n"
     ]
    }
   ],
   "source": [
    "# TODO: Resposta desafio 02\n",
    "\n",
    "humor = input('Você está de bom humor hoje? (sim) para bom humor, (não) para mal humor')\n",
    "pai = input('Seu pai já chegou em casa? (sim) ou (não)')\n",
    "\n",
    "\n",
    "\n",
    "if humor == 'sim' and pai == 'sim':\n",
    "    print(\"pode ir a praia\")\n",
    "else:\n",
    "    print(\"não pode ir a praia\")\n"
   ]
  },
  {
   "cell_type": "markdown",
   "metadata": {},
   "source": [
    "## Desafio 03\n",
    "- Crie um programa que modifique o cpf digitado\n",
    "    - pegue um cpf qualquer com todos os digitos:\n",
    "        - remova os caracteres\n",
    "        - imprima o cpf sem modificação\n",
    "        - imprima o cpf com modificação"
   ]
  },
  {
   "cell_type": "code",
   "execution_count": 30,
   "metadata": {},
   "outputs": [
    {
     "name": "stdout",
     "output_type": "stream",
     "text": [
      "cpf: 386.593.281.91\n",
      "cpf modificado: 38659328191\n"
     ]
    }
   ],
   "source": [
    "# TODO: Resposta desafio 03\n",
    "\n",
    "cpf = input('Digite seu cpf: ')\n",
    "cpf_modificado = cpf.replace('.','').replace('-','')\n",
    "\n",
    "print(f'cpf: {cpf}')\n",
    "print(f'cpf modificado: {cpf_modificado}')"
   ]
  },
  {
   "cell_type": "markdown",
   "metadata": {},
   "source": [
    "## Desafio 04\n",
    "- Crie uma calculadora de IMC\n",
    "    - Imprima as seguintes condições:?\n",
    "        - imc <17: está com anorexia.\n",
    "        - imc <18.5: está abaixo do peso\n",
    "        - imc <25: está no peso ideal.\n",
    "        - imc <30: está acima do peso.\n",
    "        - imc <35: está com grau de obesidade I.\n",
    "        - imc <40: está com grau de obesidade II.\n",
    "        - imc: está com grau de obesidade mórbida."
   ]
  },
  {
   "cell_type": "code",
   "execution_count": 45,
   "metadata": {},
   "outputs": [
    {
     "name": "stdout",
     "output_type": "stream",
     "text": [
      "está com grau de obesidade mórbida.\n"
     ]
    }
   ],
   "source": [
    "# TODO: Resposta desafio 04\n",
    "\n",
    "imc = input(\"digite seu imc\")\n",
    "imc=int(imc)\n",
    "\n",
    "if imc<17:\n",
    "    print('esta com anorexia')\n",
    "elif imc <18.5:\n",
    "    print('esta abaixo do peso')\n",
    "elif imc <25:\n",
    "    print(\" está no peso ideal.\")\n",
    "elif imc <30:\n",
    "    print(\"está acima do peso.\")\n",
    "elif imc <35:\n",
    "    print(\"está com grau de obesidade I\")\n",
    "elif imc <40:\n",
    "    print(\"está com grau de obesidade II.\")\n",
    "else:\n",
    "    print(\"está com grau de obesidade mórbida.\")"
   ]
  },
  {
   "cell_type": "markdown",
   "metadata": {},
   "source": [
    "## Desafio 05\n",
    "- Crie uma calculadora basica.\n",
    "    - Solicite 2 números do usuário e pergunte qual operação matemática ele deseja fazer.\n",
    "        -   +; -; /; *\n",
    "        - imprima o resultado correto para cada operação"
   ]
  },
  {
   "cell_type": "code",
   "execution_count": null,
   "metadata": {},
   "outputs": [],
   "source": [
    "# TODO: Resposta desafio 05\n",
    "\n",
    "num1 = input('Digite o primeiro ')\n",
    "num2 = input('Digite o segundo numero')\n",
    "operacao = input('Digete a sua operação:')\n",
    "\n",
    "adicao = num1 + num2\n",
    "subtracao = num1 - num2\n",
    "multiplicacao = num1 * num2\n",
    "divisao = num1 / num2\n",
    "\n",
    "if  operacao == 'adição':\n",
    "    print('resultado: {adicao}')\n",
    "if operacao == 'subtraçao':\n",
    "    print('resultado: {subtracao}')\n",
    "if operacao == 'multiplicação': \n",
    "    print('resultado: {multiplicação}')\n",
    "if\n",
    "\n"
   ]
  }
 ],
 "metadata": {
  "kernelspec": {
   "display_name": "Python 3",
   "language": "python",
   "name": "python3"
  },
  "language_info": {
   "codemirror_mode": {
    "name": "ipython",
    "version": 3
   },
   "file_extension": ".py",
   "mimetype": "text/x-python",
   "name": "python",
   "nbconvert_exporter": "python",
   "pygments_lexer": "ipython3",
   "version": "3.12.4"
  }
 },
 "nbformat": 4,
 "nbformat_minor": 2
}

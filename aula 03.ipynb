{
 "cells": [
  {
   "cell_type": "code",
   "execution_count": 3,
   "metadata": {},
   "outputs": [
    {
     "name": "stdout",
     "output_type": "stream",
     "text": [
      "20\n",
      "1010\n",
      "20\n",
      "o resultado e: 40\n"
     ]
    }
   ],
   "source": [
    "#soma\n",
    "print(10+10)\n",
    "#concateção\n",
    "print('10'+'10')\n",
    "\n",
    "#somando com variaveis\n",
    "num1 = 10\n",
    "num2 = 10\n",
    "\n",
    "soma = num1 + num2\n",
    "print(soma)\n",
    "\n",
    "valor1 = int(input('digite o primeiro valor: '))\n",
    "valor2 = int(input('digite o segundo valor: '))\n",
    "\n",
    "resultado = valor1 + valor2\n",
    "print(f'o resultado e: {resultado}')"
   ]
  },
  {
   "cell_type": "code",
   "execution_count": 7,
   "metadata": {},
   "outputs": [
    {
     "name": "stdout",
     "output_type": "stream",
     "text": [
      "0\n",
      "0\n",
      "resultado e: 0\n"
     ]
    }
   ],
   "source": [
    "#substração\n",
    "\n",
    "print(10-10)\n",
    "\n",
    "#substração com variavel\n",
    "num1 = 10\n",
    "num2 = 10\n",
    "resultado = num1 - num2\n",
    "print(resultado)\n",
    "\n",
    "#subtração com input\n",
    "\n",
    "valor1 = int(input('Digite um valor: '))\n",
    "valor2 = int(input('Digite um valor: '))\n",
    "\n",
    "resultado = valor1 - valor2\n",
    "print(f\"resultado e: {resultado}\")"
   ]
  },
  {
   "cell_type": "code",
   "execution_count": 23,
   "metadata": {},
   "outputs": [
    {
     "name": "stdout",
     "output_type": "stream",
     "text": [
      "100\n",
      "100 <class 'int'>\n",
      "O resultado e: 1\n"
     ]
    }
   ],
   "source": [
    "#multiplicação\n",
    "\n",
    "print(10*10)\n",
    "\n",
    "#multiplicação com variavel\n",
    "\n",
    "num1 = 10\n",
    "num2 = 10\n",
    "\n",
    "resultado = num1 * num2\n",
    "print(resultado, type(num1))\n",
    "\n",
    "#Multiplicação com input\n",
    "\n",
    "valor1 = int(input('Digite um numero: '))\n",
    "valor2 = int(input('Digite outro valor: '))\n",
    "\n",
    "resultado = valor1 * valor2\n",
    "\n",
    "print(f'O resultado e: {resultado}')\n",
    "\n"
   ]
  },
  {
   "cell_type": "code",
   "execution_count": 24,
   "metadata": {},
   "outputs": [
    {
     "name": "stdout",
     "output_type": "stream",
     "text": [
      "1.0\n",
      "1.0\n",
      "Seu resultado é: (1.0, <class 'int'>)\n"
     ]
    }
   ],
   "source": [
    "#Divisão\n",
    "\n",
    "print(1/1)\n",
    "\n",
    "#Divisão com variavel\n",
    "\n",
    "valor1 = 1\n",
    "valor2 = 1\n",
    "\n",
    "resultado = valor1 / valor2\n",
    "\n",
    "print(resultado)\n",
    "\n",
    "#input para divisão\n",
    "\n",
    "valor1 = int(input('Digite um valor: '))\n",
    "valor2 = int(input('Digite outro valor: '))\n",
    "\n",
    "resultado = valor1 / valor2\n",
    "print(f'Seu resultado é: {resultado, type(valor1)}')\n",
    "\n"
   ]
  },
  {
   "cell_type": "code",
   "execution_count": 85,
   "metadata": {},
   "outputs": [
    {
     "name": "stdout",
     "output_type": "stream",
     "text": [
      " O RESULTADO E: 2 \n"
     ]
    }
   ],
   "source": [
    "#Desafio 1\n",
    "\n",
    "variavel1 = 1\n",
    "variavel2 = 1\n",
    "\n",
    "resultado_das_variaveis = variavel1 + variavel2\n",
    "\n",
    "print(f' O RESULTADO E: {resultado_das_variaveis} ')"
   ]
  },
  {
   "cell_type": "code",
   "execution_count": 66,
   "metadata": {},
   "outputs": [
    {
     "name": "stdout",
     "output_type": "stream",
     "text": [
      "O valor da adição e: 2, \n",
      " O valor da subtração e: 0, \n",
      " O valor da divisão e: 1.0, \n",
      " O Valor da multiplicação e: 1\n"
     ]
    }
   ],
   "source": [
    "#Desafio 2 \n",
    "\n",
    "valor1 = int(input('DIGITE SEU 1° VALOR: '))\n",
    "valor2 = int(input('DIGITE SEU 2° VALOR: '))\n",
    "\n",
    "resultado_positivo = valor1 + valor2 \n",
    "resultado_negativo = valor1 - valor2\n",
    "resultado_dividido = valor1 / valor2\n",
    "resultado_multicativo = valor1 * valor2\n",
    "print(f' O valor da adição e: {resultado_positivo}, \\n O valor da subtração e: {resultado_negativo}, \\n O valor da divisão e: {resultado_dividido}, \\n O Valor da multiplicação e: {resultado_multicativo}')"
   ]
  },
  {
   "cell_type": "code",
   "execution_count": 81,
   "metadata": {},
   "outputs": [
    {
     "name": "stdout",
     "output_type": "stream",
     "text": [
      " SEU NOME E: gui \n",
      " A SUA IDADE E: 23 \n",
      " A SOMA DO NUMERO QUE VOCE DIGITOU E: 2\n"
     ]
    }
   ],
   "source": [
    "#Desafio 3\n",
    "\n",
    "nome_do_usuario = str(input('DIGITE SEU NOME: '))\n",
    "idade_do_usuario = int(input('DIGITE  A SUA IDADE: '))\n",
    "numero1 = int(input('AGORA DIGITE SEU 1° NUMERO: '))\n",
    "numero2 = int(input('AGORA DIGITE SEU 2° NUMERO: '))\n",
    "\n",
    "resultado_dos_numeros = numero1 + numero2\n",
    "\n",
    "print(f' SEU NOME E: {nome_do_usuario} \\n A SUA IDADE E: {idade_do_usuario} \\n A SOMA DO NUMERO QUE VOCE DIGITOU E: {resultado_dos_numeros}')"
   ]
  }
 ],
 "metadata": {
  "kernelspec": {
   "display_name": "Python 3",
   "language": "python",
   "name": "python3"
  },
  "language_info": {
   "codemirror_mode": {
    "name": "ipython",
    "version": 3
   },
   "file_extension": ".py",
   "mimetype": "text/x-python",
   "name": "python",
   "nbconvert_exporter": "python",
   "pygments_lexer": "ipython3",
   "version": "3.12.3"
  }
 },
 "nbformat": 4,
 "nbformat_minor": 2
}

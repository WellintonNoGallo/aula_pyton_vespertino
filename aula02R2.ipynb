{
 "cells": [
  {
   "cell_type": "markdown",
   "metadata": {},
   "source": [
    "### <b>Convertendo tipos de Dados"
   ]
  },
  {
   "cell_type": "code",
   "execution_count": 3,
   "metadata": {},
   "outputs": [
    {
     "name": "stdout",
     "output_type": "stream",
     "text": [
      "valor sem conversão <class 'int'>\n",
      "segundo valor ja convertido <class 'str'>\n"
     ]
    }
   ],
   "source": [
    "valor = 15\n",
    "print('valor sem conversão', type(valor))\n",
    "valor = str(valor)\n",
    "print('segundo valor ja convertido',type(valor))"
   ]
  },
  {
   "cell_type": "markdown",
   "metadata": {},
   "source": [
    "### <b>Declarando Variáveis"
   ]
  },
  {
   "cell_type": "code",
   "execution_count": 4,
   "metadata": {},
   "outputs": [
    {
     "name": "stdout",
     "output_type": "stream",
     "text": [
      "Guilherme\n",
      "23\n",
      "80\n",
      "1.75\n",
      "True\n"
     ]
    }
   ],
   "source": [
    "nome = 'Guilherme' #string\n",
    "idade = 23 #inteiro\n",
    "peso = 80 #float\n",
    "altura = 1.75 #float\n",
    "instrutor = True #boolean\n",
    "\n",
    "print(nome)\n",
    "print(idade)\n",
    "print(peso)\n",
    "print(altura)\n",
    "print(instrutor)"
   ]
  },
  {
   "cell_type": "markdown",
   "metadata": {},
   "source": [
    "### <b>Concatenação</b>\n",
    "\n",
    "- Concatenação usando o sinal de +,  eu não consigo concatenar variaveis do tipo int(inteiro)\n"
   ]
  },
  {
   "cell_type": "code",
   "execution_count": 18,
   "metadata": {},
   "outputs": [
    {
     "name": "stdout",
     "output_type": "stream",
     "text": [
      "ola, meu nome é guilherme eu tenho 23 anos de idade\n",
      "ola, meu nome é guilherme eu tenho  23 anos de idade\n",
      "ola, meu nome é guilherme e tenho 23 anos de idade!\n"
     ]
    }
   ],
   "source": [
    "nome = 'guilherme'\n",
    "idade = 23\n",
    "altura = 1.80\n",
    "\n",
    "#modo 1\n",
    "print('ola, meu nome é '+ nome + ' eu tenho '+ str(idade)+ ' anos de idade')\n",
    "\n",
    "#modo2\n",
    "\n",
    "print('ola, meu nome é',nome,'eu tenho ', idade, 'anos de idade')\n",
    "\n",
    "#modo3\n",
    "print(f'ola, meu nome é {nome} e tenho {idade} anos de idade!')"
   ]
  },
  {
   "cell_type": "markdown",
   "metadata": {},
   "source": [
    "### <b>Entrada de Dados"
   ]
  },
  {
   "cell_type": "code",
   "execution_count": 25,
   "metadata": {},
   "outputs": [
    {
     "name": "stdout",
     "output_type": "stream",
     "text": [
      "gui\n"
     ]
    }
   ],
   "source": [
    "nome = input('Digite seu nome: ')\n",
    "print(nome)"
   ]
  },
  {
   "cell_type": "markdown",
   "metadata": {},
   "source": [
    "### <b> atividade"
   ]
  },
  {
   "cell_type": "code",
   "execution_count": 29,
   "metadata": {},
   "outputs": [],
   "source": [
    "nome = str(input('digite seu nome: '))"
   ]
  }
 ],
 "metadata": {
  "kernelspec": {
   "display_name": "Python 3",
   "language": "python",
   "name": "python3"
  },
  "language_info": {
   "codemirror_mode": {
    "name": "ipython",
    "version": 3
   },
   "file_extension": ".py",
   "mimetype": "text/x-python",
   "name": "python",
   "nbconvert_exporter": "python",
   "pygments_lexer": "ipython3",
   "version": "3.12.3"
  }
 },
 "nbformat": 4,
 "nbformat_minor": 2
}

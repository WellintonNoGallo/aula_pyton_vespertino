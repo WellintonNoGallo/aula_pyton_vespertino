{
 "cells": [
  {
   "cell_type": "code",
   "execution_count": 6,
   "metadata": {},
   "outputs": [
    {
     "name": "stdout",
     "output_type": "stream",
     "text": [
      "Bem vindo ao Pyton Games\n",
      "Você possui 5 tentativas para advinhar o numero secreto entre 1 e 5\n",
      "Parabéns! Você acertou o numero secreto 3 em 1 tentativas.\n"
     ]
    }
   ],
   "source": [
    "import random\n",
    "\n",
    "numero_secreto = random.randint(1,5)\n",
    "\n",
    "tentativa3\n",
    "s = 0\n",
    "max_tentativas = 5\n",
    "acertou = False\n",
    "print('Bem vindo ao Pyton Games')\n",
    "print(f'Você possui {max_tentativas} tentativas para advinhar o numero secreto entre 1 e 5')\n",
    "\n",
    "while tentativas < max_tentativas:\n",
    "    palpite = int(input('Digite um numero inteiro: '))\n",
    "    #print(f'Numero secreto: {numero_secreto}')\n",
    "    tentativas +=1\n",
    "    #print(f'Numero de tentativas: {tentativa}')\n",
    "    \n",
    "    if palpite == numero_secreto:\n",
    "        acertou = True\n",
    "        break\n",
    "    elif palpite < numero_secreto:\n",
    "        print('Tente um numero maior')\n",
    "    else: \n",
    "        print('Tente um numero menor')\n",
    "        \n",
    "if acertou:\n",
    "    print(f'Parabéns! Você acertou o numero secreto {numero_secreto} em {tentativas} tentativas.')    \n",
    "else:\n",
    "    print(f'Que pena você não conseguiu advinhar o numero secreto {numero_secreto}')        "
   ]
  }
 ],
 "metadata": {
  "kernelspec": {
   "display_name": "Python 3",
   "language": "python",
   "name": "python3"
  },
  "language_info": {
   "codemirror_mode": {
    "name": "ipython",
    "version": 3
   },
   "file_extension": ".py",
   "mimetype": "text/x-python",
   "name": "python",
   "nbconvert_exporter": "python",
   "pygments_lexer": "ipython3",
   "version": "3.12.4"
  }
 },
 "nbformat": 4,
 "nbformat_minor": 2
}

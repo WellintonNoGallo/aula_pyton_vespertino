{
 "cells": [
  {
   "cell_type": "code",
   "execution_count": null,
   "metadata": {},
   "outputs": [],
   "source": [
    "usuario = input(\"Digite seu peso: \")\n",
    "carga = input(\"Digite o peso da carga: \")\n",
    "\n",
    "usuario = int(usuario)\n",
    "carga = int(carga)\n",
    "\n",
    "peso_total = usuario + carga\n",
    "capacidade = 200\n",
    "if peso_total <= 200:\n",
    "    print\n",
    "\n",
    "\n",
    "\n",
    "\n"
   ]
  },
  {
   "cell_type": "markdown",
   "metadata": {},
   "source": [
    "## Desafio 3"
   ]
  },
  {
   "cell_type": "code",
   "execution_count": null,
   "metadata": {},
   "outputs": [],
   "source": [
    "print(15*\"-\", \"BOLETIM\", 15*\"-\")\n",
    "nome = input(\"digite nome do aluno\")\n",
    "idade = int (input(\"digitar a idade\"))\n",
    "cpf = "
   ]
  }
 ],
 "metadata": {
  "language_info": {
   "name": "python"
  }
 },
 "nbformat": 4,
 "nbformat_minor": 2
}
